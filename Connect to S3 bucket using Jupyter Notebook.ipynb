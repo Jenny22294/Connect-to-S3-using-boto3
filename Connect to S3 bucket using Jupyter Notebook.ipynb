{
 "cells": [
  {
   "cell_type": "markdown",
   "metadata": {},
   "source": [
    "### Setting up before doing anything"
   ]
  },
  {
   "cell_type": "code",
   "execution_count": null,
   "metadata": {},
   "outputs": [],
   "source": [
    "# Packages\n",
    "\n",
    "import pandas as pd\n",
    "import numpy as np\n",
    "import boto3\n",
    "import os\n",
    "#!pip install pdfkit # uncomment if it's the first time\n",
    "#!pip install wkhtmltopdf # same as above; can also install it from here: https://wkhtmltopdf.org/ \n",
    "import pdfkit as pdf\n",
    "import shutil\n",
    "import botocore\n",
    "import sys\n"
   ]
  },
  {
   "cell_type": "code",
   "execution_count": null,
   "metadata": {},
   "outputs": [],
   "source": [
    "# Pass your own credentials\n",
    "\n",
    "myAccessKey = ' '\n",
    "mySecretKey = ' '\n",
    "s3_client = boto3.client(\n",
    "    's3',\n",
    "    aws_access_key_id=myAccessKey,\n",
    "    aws_secret_access_key=mySecretKey\n",
    ")\n",
    "s3 = boto3.resource('s3')\n"
   ]
  },
  {
   "cell_type": "code",
   "execution_count": null,
   "metadata": {},
   "outputs": [],
   "source": [
    "# Get the names of all buckets\n",
    "def get_buckets():\n",
    "    return [bucket.name for bucket in s3.buckets.all()]"
   ]
  },
  {
   "cell_type": "code",
   "execution_count": null,
   "metadata": {},
   "outputs": [],
   "source": [
    "# List of all bucket you have permission - on JInternet\n",
    "get_buckets()[0:5]"
   ]
  },
  {
   "cell_type": "markdown",
   "metadata": {},
   "source": [
    "### Follow these below codes to read the data from S3"
   ]
  },
  {
   "cell_type": "markdown",
   "metadata": {},
   "source": [
    "#### Please note this data doesn't contain its headers. "
   ]
  },
  {
   "cell_type": "code",
   "execution_count": null,
   "metadata": {},
   "outputs": [],
   "source": [
    "list_bucket = []\n",
    "\n",
    "for bucket in s3.buckets.all(): \n",
    "    if bucket.name.startswith(\"jq-ada-dev-dst-adobe\"):\n",
    "        list_bucket.append(bucket.name)\n",
    "        #print (bucket.name)\n",
    "        \n",
    "list_bucket\n",
    "        "
   ]
  },
  {
   "cell_type": "code",
   "execution_count": null,
   "metadata": {},
   "outputs": [],
   "source": [
    "# S3 list all keys with the prefix 'group/v1/hit_data/2018/12'\n",
    "filenames = []\n",
    "\n",
    "i = 0\n",
    "for bucket in s3.buckets.all():\n",
    "    if bucket.name.startswith(\"your own bucket name\") :\n",
    "        for obj in bucket.objects.filter(Prefix='prefix if exists'):\n",
    "            # print('s3://''{0}''/''{1}'.format(bucket.name, obj.key))\n",
    "            filenames.append('s3://''{0}''/''{1}'.format(bucket.name, obj.key))\n",
    "\n",
    "# See the first two filenames\n",
    "\n",
    "file_name = filenames[0:2]\n",
    "file_name"
   ]
  },
  {
   "cell_type": "code",
   "execution_count": null,
   "metadata": {},
   "outputs": [],
   "source": [
    "# Read header names\n",
    "\n",
    "import s3fs\n",
    "header = pd.read_csv('bucket location')\n"
   ]
  },
  {
   "cell_type": "code",
   "execution_count": null,
   "metadata": {},
   "outputs": [],
   "source": [
    "# Read an example data\n",
    "import glob\n",
    "dfs = []\n",
    "for filename in file_name:\n",
    "    df = pd.read_csv(filename, index_col=None, header= None )\n",
    "    dfs.append(df)\n",
    "    \n",
    "big_frame = pd.concat(dfs, ignore_index=True)"
   ]
  },
  {
   "cell_type": "code",
   "execution_count": null,
   "metadata": {},
   "outputs": [],
   "source": [
    "# See the list of appended data\n",
    "big_frame"
   ]
  },
  {
   "cell_type": "code",
   "execution_count": null,
   "metadata": {},
   "outputs": [],
   "source": [
    "# Adding column names\n",
    "big_frame.columns = list(header)\n",
    "big_frame.head(5)"
   ]
  },
  {
   "cell_type": "code",
   "execution_count": null,
   "metadata": {},
   "outputs": [],
   "source": [
    "# Data description -- see the first 5 observation following by columns from 290 to 300\n",
    "\n",
    "df.iloc[:, 290:300].head(5)"
   ]
  }
 ],
 "metadata": {
  "kernelspec": {
   "display_name": "Python 3",
   "language": "python",
   "name": "python3"
  },
  "language_info": {
   "codemirror_mode": {
    "name": "ipython",
    "version": 3
   },
   "file_extension": ".py",
   "mimetype": "text/x-python",
   "name": "python",
   "nbconvert_exporter": "python",
   "pygments_lexer": "ipython3",
   "version": "3.7.3"
  }
 },
 "nbformat": 4,
 "nbformat_minor": 2
}
